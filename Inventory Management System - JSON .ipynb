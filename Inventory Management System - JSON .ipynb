{
 "cells": [
  {
   "cell_type": "code",
   "execution_count": 50,
   "id": "d1920a4e",
   "metadata": {},
   "outputs": [],
   "source": [
    "import json\n",
    "import time\n",
    "\n",
    "fd = open(\"records.json\",'r')\n",
    "js = fd.read()\n",
    "fd.close()\n",
    "\n",
    "record = json.loads(js)"
   ]
  },
  {
   "cell_type": "code",
   "execution_count": 51,
   "id": "9eb2c4c7",
   "metadata": {},
   "outputs": [
    {
     "data": {
      "text/plain": [
       "{'1001': {'Name': '5 star', 'Price': 10, 'Quantity': 200},\n",
       " '1002': {'Name': 'Bar-One', 'Price': 20, 'Quantity': 500},\n",
       " '1003': {'Name': 'Cake', 'Price': 500, 'Quantity': 20},\n",
       " '1004': {'Name': 'Candy', 'Price': 2, 'Quantity': 1000},\n",
       " '1005': {'Name': 'Perk', 'Price': 5, 'Quantity': 0}}"
      ]
     },
     "execution_count": 51,
     "metadata": {},
     "output_type": "execute_result"
    }
   ],
   "source": [
    "record"
   ]
  },
  {
   "cell_type": "code",
   "execution_count": 52,
   "id": "51be1ca2",
   "metadata": {},
   "outputs": [
    {
     "name": "stdout",
     "output_type": "stream",
     "text": [
      "-----------MENU------------------\n",
      "\n",
      "1001 : 5 star | 10 | 200\n",
      "1002 : Bar-One | 20 | 500\n",
      "1003 : Cake | 500 | 20\n",
      "1004 : Candy | 2 | 1000\n",
      "1005 : Perk | 5 | 0\n",
      "-------------------------------------\n",
      "\n",
      " Please Enter Your Name :Pawan \n",
      "Please Enter Your Email id :chahcbiasc@gmail.com\n",
      "Please Enter Your Phone No. :1234567890\n",
      "Please Enter Product Id : 1004\n",
      "Please Enter Quantity : 100000\n",
      "Sorry We are not having enough Quantity in our Inventory\n",
      "We're only having 1000\n",
      "-----------------------------------\n",
      "\n",
      "Press Y/y to purchase : y\n",
      "-----------------------------------\n",
      "\n",
      "              BILL                 \n",
      "\n",
      "Name        :  Candy\n",
      "Price       :  2 Rs\n",
      "Quantity    :  100000\n",
      "-----------------------------------\n",
      "\n",
      "Billing Amount    :  2000 Rs\n",
      "-----------------------------------\n",
      "\n"
     ]
    }
   ],
   "source": [
    "print(\"-----------MENU------------------\\n\")\n",
    "for key in record.keys():\n",
    "    print(key,\":\",record[key]['Name'],\"|\",record[key]['Price'],\"|\",record[key]['Quantity'])\n",
    "\n",
    "print(\"-------------------------------------\\n\")\n",
    "\n",
    "ui_name = str(input(\" Please Enter Your Name :\"))\n",
    "ui_email = str(input(\"Please Enter Your Email id :\"))\n",
    "ui_phone = str(input(\"Please Enter Your Phone No. :\"))\n",
    "ui_pr = str(input(\"Please Enter Product Id : \"))\n",
    "ui_qn = int(input(\"Please Enter Quantity : \"))\n",
    "      \n",
    "purchased = False\n",
    "FAmount  = 0\n",
    "\n",
    "\n",
    "if(record[ui_pr]['Quantity']>=ui_qn):\n",
    "    purchased = True\n",
    "    record[ui_pr]['Quantity'] = record[ui_pr]['Quantity'] - ui_qn   \n",
    "    print(\"-----------------------------------\\n\")\n",
    "    print(\"              BILL                 \\n\")\n",
    "\n",
    "\n",
    "\n",
    "    print(\"Name        : \",record[ui_pr]['Name'])\n",
    "    print(\"Price       : \", record[ui_pr]['Price'],\"Rs\")\n",
    "    print(\"Quantity    : \", ui_qn)\n",
    "\n",
    "    print(\"-----------------------------------\\n\")\n",
    "    FAmount = record[ui_pr]['Price']*ui_qn\n",
    "    print(\"Billing Amount    : \",FAmount,\"Rs\")\n",
    "    print(\"-----------------------------------\\n\")\n",
    "\n",
    "else: \n",
    "    print(\"Sorry We are not having enough Quantity in our Inventory\")\n",
    "    print(\"We're only having\",record[ui_pr]['Quantity'])\n",
    "    print(\"-----------------------------------\\n\")\n",
    "    ch = str(input(\"Press Y/y to purchase : \"))\n",
    "    \n",
    "    if(ch == 'y' or ch == 'Y'):\n",
    "        purchased = True\n",
    "        print(\"-----------------------------------\\n\")\n",
    "        print(\"              BILL                 \\n\")\n",
    "\n",
    "\n",
    "\n",
    "        print(\"Name        : \",record[ui_pr]['Name'])\n",
    "        print(\"Price       : \", record[ui_pr]['Price'],\"Rs\")\n",
    "        print(\"Quantity    : \", ui_qn)\n",
    "\n",
    "        print(\"-----------------------------------\\n\")\n",
    "        FAmount = record[ui_pr]['Price']*record[ui_pr]['Quantity']\n",
    "        print(\"Billing Amount    : \",FAmount,\"Rs\")\n",
    "        print(\"-----------------------------------\\n\")\n",
    "        record[ui_pr]['Quantity'] = 0 \n",
    "    else:\n",
    "        print(\"Thank you\")\n",
    "\n",
    "js = json.dumps(record)"
   ]
  },
  {
   "cell_type": "code",
   "execution_count": 53,
   "id": "5c7c7122",
   "metadata": {},
   "outputs": [],
   "source": [
    "fd = open(\"records.json\",'w')\n",
    "fd.write(js)\n",
    "fd.close()"
   ]
  },
  {
   "cell_type": "code",
   "execution_count": null,
   "id": "873bc63e",
   "metadata": {},
   "outputs": [],
   "source": []
  },
  {
   "cell_type": "code",
   "execution_count": 59,
   "id": "a86d8cfa",
   "metadata": {},
   "outputs": [],
   "source": [
    "if(purchased == True):\n",
    "    fd = open(\"Sales.txt\",'a')\n",
    "    sale = str(ui_name+\",\"+ui_email+\",\"+ui_phone+\",\"+ str(FAmount))+time.ctime()+\"\\n\"\n",
    "    fd.write(sale)\n",
    "    fd.close()"
   ]
  },
  {
   "cell_type": "code",
   "execution_count": null,
   "id": "4c64da0a",
   "metadata": {},
   "outputs": [],
   "source": []
  }
 ],
 "metadata": {
  "kernelspec": {
   "display_name": "Python 3 (ipykernel)",
   "language": "python",
   "name": "python3"
  },
  "language_info": {
   "codemirror_mode": {
    "name": "ipython",
    "version": 3
   },
   "file_extension": ".py",
   "mimetype": "text/x-python",
   "name": "python",
   "nbconvert_exporter": "python",
   "pygments_lexer": "ipython3",
   "version": "3.10.9"
  }
 },
 "nbformat": 4,
 "nbformat_minor": 5
}
